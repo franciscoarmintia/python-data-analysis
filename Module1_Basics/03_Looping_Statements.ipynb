{
 "cells": [
  {
   "cell_type": "markdown",
   "metadata": {
    "id": "mBlCq0hH8_9u"
   },
   "source": [
    "# Looping Statements\n",
    "\n",
    "Learning Outcomes:\n",
    "- Introduce the concept of *iteration*\n",
    "- Understand on how does loop works through `while`\n",
    "- Understand some shortcuts using `for`"
   ]
  },
  {
   "cell_type": "markdown",
   "metadata": {},
   "source": [
    "## Iteration\n",
    "\n",
    "### Updating variables\n",
    "A common pattern in assignment statements is an assignment statement that updates a variable, where the new value of the variable depends on the old.\n",
    "```python\n",
    "x = x + 1\n",
    "```\n",
    "This means “get the current value of `x`, add 1, and then update `x` with the new value.”"
   ]
  },
  {
   "cell_type": "markdown",
   "metadata": {},
   "source": [
    "If you try to update a variable that doesn’t exist, you get an error, because Python evaluates the right side before it assigns a value to x.\n",
    "\n",
    "Let's try it to run the code below:"
   ]
  },
  {
   "cell_type": "code",
   "execution_count": 1,
   "metadata": {},
   "outputs": [],
   "source": [
    "x = 0. #Uncomment this line to remove error\n",
    "x = x + 1"
   ]
  },
  {
   "cell_type": "markdown",
   "metadata": {},
   "source": [
    "Before you can update a variable, you have to initialize it, usually with a simple assignment. Uncomment the first line\n",
    "\n",
    "Updating a variable by adding 1 is called an *increment*; subtracting 1 is called a *decrement*."
   ]
  },
  {
   "cell_type": "markdown",
   "metadata": {},
   "source": [
    "## The `while` statement\n",
    "\n",
    "Computers are often used to automate repetitive tasks. Repeating identical or similar tasks without making errors is something that computers do well and people do poorly. Because iteration is so common, Python provides several language features to make it easier.\n",
    "\n",
    "One form of iteration in Python is the `while` statement. Here is a simple program that counts down from five and then says “Blastoff!”."
   ]
  },
  {
   "cell_type": "code",
   "execution_count": 2,
   "metadata": {},
   "outputs": [
    {
     "name": "stdout",
     "output_type": "stream",
     "text": [
      "5\n",
      "3\n",
      "1\n",
      "Blastoff!\n"
     ]
    }
   ],
   "source": [
    "n = 5\n",
    "while n > 0:\n",
    "    print(n)\n",
    "    n = n - 2 #Try to change it from 1 to 2. What happens?\n",
    "print('Blastoff!')"
   ]
  },
  {
   "cell_type": "markdown",
   "metadata": {},
   "source": [
    "You can almost read the `while` statement as if it were English. It means, “While `n` is greater than 0, display the value of `n` and then reduce the value of `n` by 1. When you get to 0, exit the while statement and display the word Blastoff!”\n",
    "\n",
    "More formally, here is the flow of execution for a while statement:\n",
    "\n",
    "1. Evaluate the condition, yielding True or False.\n",
    "\n",
    "2. If the condition is false, exit the while statement and continue execution at the next statement.\n",
    "\n",
    "3. If the condition is true, execute the body and then go back to step 1.\n",
    "\n",
    "This type of flow is called a **loop** because the third step loops back around to the top. We call each time we execute the body of the loop an iteration. For the above loop, we would say, “It had five iterations”, which means that the body of the loop was executed five times.\n",
    "\n",
    "The body of the loop should change the value of one or more variables so that eventually the condition becomes false and the loop terminates. In the example above, that variable would be `n`. We call it the iteration variable. If there is no iteration variable, the loop will repeat forever, resulting in an infinite loop."
   ]
  },
  {
   "cell_type": "markdown",
   "metadata": {},
   "source": [
    "### Infinite Loop\n",
    "\n",
    "An endless source of amusement for programmers is the observation that the directions on shampoo, “Lather, rinse, repeat,” are an infinite loop because there is no iteration variable telling you how many times to execute the loop.\n",
    "\n",
    "Let's create a sample code below:\n",
    "\n",
    "If you mindlessly run the code below, **Congratulations!** You just had a Gotcha Moment! haha\n",
    "Don't panic, it's organic! \n",
    "\n",
    "On jupyter lab, Go to Kernel > Interrupt Kernel.\n",
    "\n",
    "\n"
   ]
  },
  {
   "cell_type": "code",
   "execution_count": null,
   "metadata": {},
   "outputs": [],
   "source": [
    "n = 10\n",
    "while True:\n",
    "    print(n, end=' ')\n",
    "    n = n - 1\n",
    "print('Done!')"
   ]
  },
  {
   "cell_type": "markdown",
   "metadata": {},
   "source": [
    "This loop is obviously an infinite loop because the logical expression on the `while` statement is simply the logical constant `True`.\n",
    "\n",
    "\n",
    "In the case of `countdown`, we can prove that the loop terminates because we know that the value of `n` is finite, and we can see that the value of `n` gets smaller each time through the loop, so eventually we have to get to 0. Other times a loop is obviously infinite because it has no iteration variable at all.\n",
    "\n",
    "**Coding Design Tip**:  \n",
    "#1 If you have a hardware Power Reset switch (e.g. Arduino, RPi, Jetson), feel free to use infinite loop.\n",
    "\n",
    "#2 When you don't know really know when to stop, infinite loop is quite useful in this arena too.\n",
    "\n",
    "For example, suppose you want to take input from the user until they type **done**. You could write:"
   ]
  },
  {
   "cell_type": "code",
   "execution_count": 3,
   "metadata": {},
   "outputs": [
    {
     "name": "stdout",
     "output_type": "stream",
     "text": [
      ">>> Hi\n",
      "Hi\n",
      ">>> Good evening!\n",
      "Good evening!\n",
      ">>> Done\n",
      "Done\n",
      ">>> done\n",
      "Done!\n"
     ]
    }
   ],
   "source": [
    "while True:\n",
    "    line = input('>>> ')\n",
    "    if line == 'done':\n",
    "        break\n",
    "    print(line)\n",
    "print('Done!')"
   ]
  },
  {
   "cell_type": "markdown",
   "metadata": {},
   "source": [
    "The loop condition is `True`, which is always true, so the loop runs infinitely.\n",
    "\n",
    "On each iteration, it prompts the user with an '>>>'. \n",
    "\n",
    "If the user types `done`, the `break` statement exits the loop. Otherwise the program echoes whatever the user types and goes back to the top of the loop."
   ]
  },
  {
   "cell_type": "markdown",
   "metadata": {},
   "source": [
    "# `for` loops\n",
    "\n",
    "Sometimes we want to loop through a fixed set of things such as a list of words, the lines in a file, or a list of numbers. This is where `for` proves to be valuable.\n",
    "\n",
    "\n",
    "`for` loop is looping through a known set of items so it runs through as many iterations as there are items in the set. Let's start with the simplest and most common usage:"
   ]
  },
  {
   "cell_type": "code",
   "execution_count": 4,
   "metadata": {
    "id": "oJxiKl228gja"
   },
   "outputs": [
    {
     "name": "stdout",
     "output_type": "stream",
     "text": [
      "----\n",
      "0 0\n",
      "----\n",
      "1 1\n",
      "----\n",
      "2 4\n",
      "----\n",
      "3 9\n"
     ]
    }
   ],
   "source": [
    "for n in range(4):\n",
    "    print(\"----\")\n",
    "    print(n, n**2)"
   ]
  },
  {
   "cell_type": "markdown",
   "metadata": {
    "id": "VIQ5wnLb9IeC"
   },
   "source": [
    "The above executes 4 loops, over the integers 0, 1, 2 and 3. The statement \n",
    "```python\n",
    "for n in range(4):\n",
    "```\n",
    "says that we want to loop over four integers, and by default it starts from zero\n",
    "(see [documentation](https://docs.python.org/3/library/stdtypes.html#range) ). \n",
    "The value of `n` is incremented in each loop iteration. The code we want to execute inside the loop is indented four spaces: \n",
    "```python\n",
    "    print(\"----\")\n",
    "    print(n, n**2)\n",
    "```\n",
    "The loop starts from zero and does not include 4 - `range(4)` is a shortcut for `range(0, 4)`.   \n",
    "\n",
    "We can change the initial value if we need to:"
   ]
  },
  {
   "cell_type": "code",
   "execution_count": 4,
   "metadata": {
    "id": "s8nwOaCv9FN_"
   },
   "outputs": [
    {
     "name": "stdout",
     "output_type": "stream",
     "text": [
      "-2\n",
      "-1\n",
      "0\n",
      "1\n",
      "2\n"
     ]
    }
   ],
   "source": [
    "for i in range(-2, 3):\n",
    "    print(i)"
   ]
  },
  {
   "cell_type": "markdown",
   "metadata": {
    "id": "YhfbJIC09Ul4"
   },
   "source": [
    "The loop starts at -2, but does not include 3.   \n",
    "\n",
    "If we want to step by three rather than one:"
   ]
  },
  {
   "cell_type": "code",
   "execution_count": 5,
   "metadata": {
    "id": "0q-Hd93c9Mph"
   },
   "outputs": [
    {
     "name": "stdout",
     "output_type": "stream",
     "text": [
      "0\n",
      "3\n",
      "6\n",
      "9\n"
     ]
    }
   ],
   "source": [
    "for n in range(0, 10, 3):\n",
    "    print(n)"
   ]
  },
  {
   "cell_type": "markdown",
   "metadata": {
    "id": "Yb4iEFRi9fAa"
   },
   "source": [
    "Syntax:\n",
    "```\n",
    "for variable in range(start,finish-1,step_size):\n",
    "    statements\n",
    "```"
   ]
  },
  {
   "cell_type": "markdown",
   "metadata": {},
   "source": [
    "We can use `for` as shown below:"
   ]
  },
  {
   "cell_type": "code",
   "execution_count": 6,
   "metadata": {},
   "outputs": [
    {
     "name": "stdout",
     "output_type": "stream",
     "text": [
      "Happy New Year: Joseph\n",
      "Happy New Year: Glenn\n",
      "Happy New Year: Sally\n",
      "Done!\n"
     ]
    }
   ],
   "source": [
    "friends = ['Joseph', 'Glenn', 'Sally']\n",
    "for friend in friends:\n",
    "    print('Happy New Year:', friend)\n",
    "print('Done!')"
   ]
  },
  {
   "cell_type": "markdown",
   "metadata": {},
   "source": [
    "In Python terms, the variable friends is a list of three strings and the `for` loop goes through the list and executes the body once for each of the three strings in the list."
   ]
  },
  {
   "cell_type": "markdown",
   "metadata": {},
   "source": [
    "Looking at the for loop, `for` and `in` are reserved Python keywords, and `friend` and `friends` are variables.\n",
    "\n",
    "```python\n",
    "for friend in friends:\n",
    "    print('Happy New Year:', friend)\n",
    "```\n",
    "\n",
    "In particular, `friend` is the iteration variable for the for loop. The variable `friend` changes for each iteration of the loop and controls when the for loop completes. The iteration variable steps successively through the three strings stored in the `friends` variable."
   ]
  },
  {
   "cell_type": "markdown",
   "metadata": {
    "id": "5ukSRpJs9kN6"
   },
   "source": [
    "## Example Codes\n",
    "\n",
    "In this section, we give you sample codes to see and observe patterns on loops.\n",
    "\n",
    "\n",
    "### Example 1: Sequence\n",
    "\n",
    "Write a program that generates the given sequence:1 2 3 4 5"
   ]
  },
  {
   "cell_type": "code",
   "execution_count": 6,
   "metadata": {
    "id": "s4lGVURv9Wf0"
   },
   "outputs": [
    {
     "name": "stdout",
     "output_type": "stream",
     "text": [
      "1\n",
      "2\n",
      "3\n",
      "4\n",
      "5\n"
     ]
    }
   ],
   "source": [
    "for i in range(1,6): #Replace oppa with the right integer\n",
    "    print (i)"
   ]
  },
  {
   "cell_type": "markdown",
   "metadata": {},
   "source": [
    "We can also show the `while` loop equivalent"
   ]
  },
  {
   "cell_type": "code",
   "execution_count": 12,
   "metadata": {},
   "outputs": [
    {
     "name": "stdout",
     "output_type": "stream",
     "text": [
      "1\n",
      "2\n",
      "3\n",
      "4\n",
      "5\n"
     ]
    }
   ],
   "source": [
    "# Solution #2\n",
    "i = 1\n",
    "while (i<=5):\n",
    "    print(i)\n",
    "    i+=1 # Shorthand notation of i = i + 1"
   ]
  },
  {
   "cell_type": "markdown",
   "metadata": {
    "id": "DboKUopC9o5u"
   },
   "source": [
    "### Example 2: Reversed Sequence\n",
    "Write a program that generates the given sequence:5 4 3 2 1"
   ]
  },
  {
   "cell_type": "code",
   "execution_count": 7,
   "metadata": {
    "id": "jQd21Ggn9m3v"
   },
   "outputs": [
    {
     "name": "stdout",
     "output_type": "stream",
     "text": [
      "5\n",
      "4\n",
      "3\n",
      "2\n",
      "1\n"
     ]
    }
   ],
   "source": [
    "for i in range(5,0,-1): #Replace senpai with the right integer\n",
    "    print (i)"
   ]
  },
  {
   "cell_type": "code",
   "execution_count": 8,
   "metadata": {
    "id": "wvoaqmW09svH"
   },
   "outputs": [
    {
     "name": "stdout",
     "output_type": "stream",
     "text": [
      "5\n",
      "4\n",
      "3\n",
      "2\n",
      "1\n"
     ]
    }
   ],
   "source": [
    "# Solution #2\n",
    "for i in reversed(range(1,6)):\n",
    "    print(i)"
   ]
  },
  {
   "cell_type": "markdown",
   "metadata": {
    "id": "m3UuomtC-vP-"
   },
   "source": [
    "### Example 3: Series (Sum of Sequence)\n",
    "\n",
    "Write a program that calculates the sum of a given sequence numbers:\n",
    "1 + 2 + 3 + 4 + 5"
   ]
  },
  {
   "cell_type": "code",
   "execution_count": 9,
   "metadata": {
    "id": "KEZuJ9ex-Ubd"
   },
   "outputs": [
    {
     "name": "stdout",
     "output_type": "stream",
     "text": [
      "Initial Value of accumulator is:  0\n",
      "The value of i is 1 , while The value of accumulator is  1\n",
      "The value of i is 2 , while The value of accumulator is  3\n",
      "The value of i is 3 , while The value of accumulator is  6\n",
      "The value of i is 4 , while The value of accumulator is  10\n",
      "The value of i is 5 , while The value of accumulator is  15\n",
      "Final Value of accumulator is:  15\n"
     ]
    }
   ],
   "source": [
    "acc = 0\n",
    "print(\"Initial Value of accumulator is: \", acc)\n",
    "\n",
    "for i in range(1,6): #Do you see any typos in this line? Can you fix it?\n",
    "    acc = acc + i\n",
    "    print(\"The value of i is\",i,\", while The value of accumulator is \",acc)\n",
    "\n",
    "print(\"Final Value of accumulator is: \", acc)"
   ]
  },
  {
   "cell_type": "markdown",
   "metadata": {},
   "source": [
    "Let's also how it can be implemented using `while`"
   ]
  },
  {
   "cell_type": "code",
   "execution_count": 14,
   "metadata": {},
   "outputs": [
    {
     "name": "stdout",
     "output_type": "stream",
     "text": [
      "Initial Value of accumulator is:  0\n",
      "The value of i is 1 , while The value of accumulator is  1\n",
      "The value of i is 2 , while The value of accumulator is  3\n",
      "The value of i is 3 , while The value of accumulator is  6\n",
      "The value of i is 4 , while The value of accumulator is  10\n",
      "The value of i is 5 , while The value of accumulator is  15\n",
      "Final Value of accumulator is:  15\n"
     ]
    }
   ],
   "source": [
    "#Solution #2\n",
    "i = 1\n",
    "acc = 0\n",
    "print(\"Initial Value of accumulator is: \", acc)\n",
    "\n",
    "while (i<=5):\n",
    "    acc = acc + i\n",
    "    print(\"The value of i is\",i,\", while The value of accumulator is \",acc)\n",
    "    i=i+1\n",
    "\n",
    "print(\"Final Value of accumulator is: \", acc)"
   ]
  },
  {
   "cell_type": "markdown",
   "metadata": {},
   "source": [
    "### Example 4: Counting\n",
    "\n",
    "Count the number of items in a list"
   ]
  },
  {
   "cell_type": "code",
   "execution_count": 11,
   "metadata": {},
   "outputs": [
    {
     "name": "stdout",
     "output_type": "stream",
     "text": [
      "Count:  6\n"
     ]
    }
   ],
   "source": [
    "count = 0\n",
    "for itervar in [3, 41, 12, 9, 74, 15]:\n",
    "    count = count + 1\n",
    "print('Count: ', count)"
   ]
  },
  {
   "cell_type": "markdown",
   "metadata": {},
   "source": [
    "Our iteration variable is named `itervar` and while we do not use `itervar` in the loop, it does control the loop and cause the loop body to be executed once for each of the values in the list.\n",
    "\n",
    "Inside the loop, we add 1 to the current value of `count` for each of the values in the list. While the loop is executing, the value of count is the number of values we have seen “so far”."
   ]
  },
  {
   "cell_type": "markdown",
   "metadata": {},
   "source": [
    "### Example 5: Sum up a list of items\n",
    "\n",
    "Compute the total set of numbers\n"
   ]
  },
  {
   "cell_type": "code",
   "execution_count": 10,
   "metadata": {},
   "outputs": [
    {
     "name": "stdout",
     "output_type": "stream",
     "text": [
      "Total:  154\n"
     ]
    }
   ],
   "source": [
    "total = 0\n",
    "for itervar in [3, 41, 12, 9, 74, 15]:\n",
    "    total = total + itervar\n",
    "print('Total: ', total)"
   ]
  },
  {
   "cell_type": "markdown",
   "metadata": {},
   "source": [
    "The two previous example would give you a glimpse on using loops. Do note: in practice, you can use `len()` and `sum()` built-in functions."
   ]
  },
  {
   "cell_type": "markdown",
   "metadata": {
    "id": "UcN0p3oV-6P8"
   },
   "source": [
    "### Example 6: conversion table from degrees Fahrenheit to degrees Celsius\n",
    "\n",
    "We can use a `for` loop to create a conversion table from degrees Fahrenheit ($T_F$) to degrees Celsius ($T_c$), using the formula:\n",
    "\n",
    "$$\n",
    "T_c = 5(T_f - 32)/9\n",
    "$$\n",
    "\n",
    "Computing the conversion from -100 F to 200 F in steps of 20 F (not including 200 F):"
   ]
  },
  {
   "cell_type": "code",
   "execution_count": 11,
   "metadata": {
    "id": "SsYFGilq-y_P"
   },
   "outputs": [
    {
     "name": "stdout",
     "output_type": "stream",
     "text": [
      " T_f,      T_c\n",
      "-100,    -73.3\n",
      " -80,    -62.2\n",
      " -60,    -51.1\n",
      " -40,    -40.0\n",
      " -20,    -28.9\n",
      "   0,    -17.8\n",
      "  20,    -6.67\n",
      "  40,     4.44\n",
      "  60,     15.6\n",
      "  80,     26.7\n",
      " 100,     37.8\n",
      " 120,     48.9\n",
      " 140,     60.0\n",
      " 160,     71.1\n",
      " 180,     82.2\n"
     ]
    }
   ],
   "source": [
    "print(\" T_f,      T_c\")\n",
    "for Tf in range(-100, 200, 20):\n",
    "    print(\"{:4},    {: 2.3}\".format(Tf, (Tf - 32)*5/9))"
   ]
  },
  {
   "cell_type": "markdown",
   "metadata": {
    "id": "Z8_hGQNVAIx9"
   },
   "source": [
    "### Example 7: Factorial\n",
    "Create a program that would ask for *n*. Afterwards, it would compute the factorial of n"
   ]
  },
  {
   "cell_type": "code",
   "execution_count": 12,
   "metadata": {
    "id": "AzaingfnAGVl"
   },
   "outputs": [
    {
     "name": "stdout",
     "output_type": "stream",
     "text": [
      "Enter the number n: 5\n",
      "5\n",
      "20\n",
      "60\n",
      "120\n",
      "120\n",
      "The final value is  120\n"
     ]
    }
   ],
   "source": [
    "# Solution 1: Using For loop statement\n",
    "value = int(input(\"Enter the number n: \"))\n",
    "\n",
    "Fac = 1\n",
    "for i in range(value, 0, -1):\n",
    "    Fac = Fac * (i)\n",
    "    print(Fac)\n",
    "\n",
    "print (\"The final value is \",  Fac)"
   ]
  },
  {
   "cell_type": "code",
   "execution_count": 13,
   "metadata": {
    "id": "gBLQXmvUAZRy"
   },
   "outputs": [
    {
     "name": "stdout",
     "output_type": "stream",
     "text": [
      "Enter the number n , in n!: 5\n",
      "The present value is  5 The current factorial value is  5\n",
      "The present value is  4 The current factorial value is  20\n",
      "The present value is  3 The current factorial value is  60\n",
      "The present value is  2 The current factorial value is  120\n",
      "The present value is  1 The current factorial value is  120\n"
     ]
    }
   ],
   "source": [
    "# Solution 2: Using While loop\n",
    "value = int(input(\"Enter the number n , in n!: \"))\n",
    "\n",
    "fac=1\n",
    "while (value >= 1):\n",
    "    fac = fac * value\n",
    "    print(\"The present value is \", value, \"The current factorial value is \", fac)\n",
    "    value = value -1"
   ]
  },
  {
   "cell_type": "markdown",
   "metadata": {},
   "source": [
    "### Example 8: Finding the largest value in a list"
   ]
  },
  {
   "cell_type": "code",
   "execution_count": 16,
   "metadata": {},
   "outputs": [
    {
     "name": "stdout",
     "output_type": "stream",
     "text": [
      "Before: -100\n",
      "Loop: 3 3\n",
      "Loop: 41 41\n",
      "Loop: 12 41\n",
      "Loop: 9 41\n",
      "Loop: 74 74\n",
      "Loop: 15 74\n",
      "Largest: 74\n"
     ]
    }
   ],
   "source": [
    "largest = -100\n",
    "print('Before:', largest)\n",
    "for itervar in [3, 41, 12, 9, 74, 15]:\n",
    "    if itervar > largest :\n",
    "        largest = itervar\n",
    "    print('Loop:', itervar, largest)\n",
    "print('Largest:', largest)"
   ]
  },
  {
   "cell_type": "markdown",
   "metadata": {},
   "source": [
    "Code Reading Notes:\n",
    "- `largest` is best thought of as the “largest value we have seen so far”. \n",
    "- if the current item is larger than `largest`, then new value of largest becomes the value of itervar\n"
   ]
  },
  {
   "cell_type": "markdown",
   "metadata": {},
   "source": [
    "## Debugging Tips\n",
    "\n",
    "As you start writing bigger programs, you might find yourself spending more time debugging. More code means more chances to make an error and more places for bugs to hide.\n",
    "\n",
    "One way to cut your debugging time is “debugging by bisection.” For example, if there are 100 lines in your program and you check them one at a time, it would take 100 steps.\n",
    "\n",
    "Instead, try to break the problem in half. Look at the middle of the program, or near it, for an intermediate value you can check. Add a print statement (or something else that has a verifiable effect) and run the program.\n",
    "\n",
    "If the mid-point check is incorrect, the problem must be in the first half of the program. If it is correct, the problem is in the second half.\n",
    "\n",
    "Every time you perform a check like this, you halve the number of lines you have to search. After six steps (which is much less than 100), you would be down to one or two lines of code, at least in theory.\n",
    "\n",
    "In practice it is not always clear what the “middle of the program” is and not always possible to check it. It doesn’t make sense to count lines and find the exact midpoint. Instead, think about places in the program where there might be errors and places where it is easy to put a check. Then choose a spot where you think the chances are about the same that the bug is before or after the check."
   ]
  },
  {
   "cell_type": "markdown",
   "metadata": {
    "id": "UHSyRYV2A0Pw"
   },
   "source": [
    "# Appendix: `break`, `continue` and `pass`\n",
    "- the following materials is not part of the core of looping statements.\n",
    "- But these might proved to be useful in some context. \n",
    "- We would discuss `break`,`continue`, `pass`\n",
    "- Additionally, we also discuss on how we can protect ourselves with infinite loop"
   ]
  },
  {
   "cell_type": "markdown",
   "metadata": {
    "id": "9ylhl4nIBbPm"
   },
   "source": [
    "## `break`\n",
    "\n",
    "Sometimes we want to break out of a `for` or `while` loop. Maybe in a `for` loop we can check if something is true, and then exit the loop prematurely, e.g."
   ]
  },
  {
   "cell_type": "code",
   "execution_count": 14,
   "metadata": {
    "id": "kXZZi6vHAo6j"
   },
   "outputs": [
    {
     "name": "stdout",
     "output_type": "stream",
     "text": [
      "0\n",
      "1\n",
      "2\n",
      "3\n",
      "4\n",
      "5\n",
      "Time to break out\n"
     ]
    }
   ],
   "source": [
    "for x in range(10):\n",
    "    print(x)\n",
    "    if x == 5:\n",
    "        print(\"Time to break out\")\n",
    "        break"
   ]
  },
  {
   "cell_type": "markdown",
   "metadata": {
    "id": "Tjps7UgzBe9l"
   },
   "source": [
    "Below is a program for finding prime numbers that uses a `break` statement. Take some time to understand what it does. It might be helpful to add some print statements to understand the flow."
   ]
  },
  {
   "cell_type": "code",
   "execution_count": 15,
   "metadata": {
    "id": "VH3BhRXYBc4J"
   },
   "outputs": [
    {
     "name": "stdout",
     "output_type": "stream",
     "text": [
      "2\n",
      "3\n",
      "5\n",
      "7\n",
      "11\n",
      "13\n",
      "17\n",
      "19\n",
      "23\n",
      "29\n",
      "31\n",
      "37\n",
      "41\n",
      "43\n",
      "47\n"
     ]
    }
   ],
   "source": [
    "N = 50  # Check numbers up 50 for primes (excludes 50)\n",
    "\n",
    "# Loop over all numbers from 2 to 50 (excluding 50)\n",
    "for n in range(2, N):\n",
    "\n",
    "    # Assume that n is prime\n",
    "    n_is_prime = True\n",
    "\n",
    "    # Check if n can be divided by m, where m ranges from 2 to n (excluding n)\n",
    "    for m in range(2, n):\n",
    "         if n % m == 0:  # This is true if the remainder for n/m is equal to zero\n",
    "            # We've found that n is divisable by m, so it can't be a prime number. \n",
    "            # No need to check for more values of m, so set n_is_prime = False and\n",
    "            # exit the 'm' loop.\n",
    "            n_is_prime = False\n",
    "            break\n",
    "\n",
    "    #  If n is prime, print to screen        \n",
    "    if n_is_prime:\n",
    "        print(n)"
   ]
  },
  {
   "cell_type": "markdown",
   "metadata": {
    "id": "I9yr-zNtBlcE"
   },
   "source": [
    "Try modifying the code for finding prime numbers such that it finds the first $N$ prime numbers (since you do not know how many numbers you need to check to find $N$ primes, use a `while` loop)."
   ]
  },
  {
   "cell_type": "markdown",
   "metadata": {
    "id": "FZpdLBA_BwET"
   },
   "source": [
    "## `continue`\n",
    "\n",
    "Sometimes we want to go prematurely to the next iteration in a loop, skipping the remaining code.\n",
    "For this we use `continue`. Here is an example that loops over 20 numbers (0 to 19) and checks if the number is divisible by 4. If it is divisible by 4 it prints a message before moving to the next value. If it is not divisible by 4 it advances the loop. "
   ]
  },
  {
   "cell_type": "code",
   "execution_count": 16,
   "metadata": {
    "id": "l51maUsyBiWq"
   },
   "outputs": [
    {
     "name": "stdout",
     "output_type": "stream",
     "text": [
      "Number is not divisible by 4: 1\n",
      "Number is not divisible by 4: 2\n",
      "Number is not divisible by 4: 3\n",
      "Number is not divisible by 4: 5\n",
      "Number is not divisible by 4: 6\n",
      "Number is not divisible by 4: 7\n",
      "Number is not divisible by 4: 9\n",
      "Number is not divisible by 4: 10\n",
      "Number is not divisible by 4: 11\n",
      "Number is not divisible by 4: 13\n",
      "Number is not divisible by 4: 14\n",
      "Number is not divisible by 4: 15\n",
      "Number is not divisible by 4: 17\n",
      "Number is not divisible by 4: 18\n",
      "Number is not divisible by 4: 19\n"
     ]
    }
   ],
   "source": [
    "for j in range(20):\n",
    "    if j % 4 == 0:  # Check remained of j/4\n",
    "        continue  # jump to next iteration over j\n",
    "    print(\"Number is not divisible by 4:\", j)"
   ]
  },
  {
   "cell_type": "markdown",
   "metadata": {
    "id": "HeK3-IJBB51s"
   },
   "source": [
    "## `pass`\n",
    "\n",
    "Sometimes we need a statement that does nothing. It is often used during development where syntactically some code is required but which you have not yet written. For example:  "
   ]
  },
  {
   "cell_type": "code",
   "execution_count": 17,
   "metadata": {
    "id": "p4yguGnyByAy"
   },
   "outputs": [
    {
     "name": "stdout",
     "output_type": "stream",
     "text": [
      "25\n",
      "36\n",
      "49\n",
      "64\n",
      "9\n"
     ]
    }
   ],
   "source": [
    "for x in range(10):\n",
    "    if x < 5:\n",
    "        # TODO: implement handling of x < 5 when other cases finished \n",
    "        pass\n",
    "    elif x < 9:\n",
    "        print(x*x)\n",
    "    else:\n",
    "        print(x)"
   ]
  },
  {
   "cell_type": "markdown",
   "metadata": {
    "id": "oNNpZcibB-En"
   },
   "source": [
    "It can also help readability. Maybe in a program there is nothing to be done, but someone reading the code might reasonably think that something should be done and suspect a bug. Using `pass` says to the reader that it was the programmer's intention that nothing should be done."
   ]
  },
  {
   "cell_type": "markdown",
   "metadata": {
    "id": "c1gSgPPsCAt0"
   },
   "source": [
    "## Infinite loops: cause and guarding against\n",
    "\n",
    "A common bug, especially when using `while` statements, is the [infinite loop](https://en.wikipedia.org/wiki/Infinite_loop). This is when a loop is entered but never terminates (exits).\n",
    "Infinite loops can render a system unresponsive, sometimes requiring a shutdown to restore function.\n",
    "\n",
    "It is good practice, espeically when learning, to add guards against infinite loops. For example, "
   ]
  },
  {
   "cell_type": "code",
   "execution_count": 18,
   "metadata": {
    "id": "B3VGntpCB78R"
   },
   "outputs": [
    {
     "name": "stdout",
     "output_type": "stream",
     "text": [
      "Loop count exceeded 2000. Exiting\n"
     ]
    }
   ],
   "source": [
    "x = 0.0\n",
    "\n",
    "counter = 0\n",
    "while x < 0.05:\n",
    "\n",
    "    # Guard against infinite loop\n",
    "    counter += 1\n",
    "    if counter > 2000:\n",
    "        print(\"Loop count exceeded 2000. Exiting\")\n",
    "        break"
   ]
  },
  {
   "cell_type": "code",
   "execution_count": null,
   "metadata": {},
   "outputs": [],
   "source": []
  }
 ],
 "metadata": {
  "colab": {
   "private_outputs": true,
   "provenance": []
  },
  "kernelspec": {
   "display_name": "Python 3 (ipykernel)",
   "language": "python",
   "name": "python3"
  },
  "language_info": {
   "codemirror_mode": {
    "name": "ipython",
    "version": 3
   },
   "file_extension": ".py",
   "mimetype": "text/x-python",
   "name": "python",
   "nbconvert_exporter": "python",
   "pygments_lexer": "ipython3",
   "version": "3.9.13"
  }
 },
 "nbformat": 4,
 "nbformat_minor": 4
}
